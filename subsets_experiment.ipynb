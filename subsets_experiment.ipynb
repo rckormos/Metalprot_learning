{
  "nbformat": 4,
  "nbformat_minor": 0,
  "metadata": {
    "colab": {
      "provenance": [],
      "authorship_tag": "ABX9TyP7+Mpq15ddbRc1IlNXr39a",
      "include_colab_link": true
    },
    "kernelspec": {
      "name": "python3",
      "display_name": "Python 3"
    },
    "language_info": {
      "name": "python"
    }
  },
  "cells": [
    {
      "cell_type": "markdown",
      "metadata": {
        "id": "view-in-github",
        "colab_type": "text"
      },
      "source": [
        "<a href=\"https://colab.research.google.com/github/rckormos/Metalprot_learning/blob/main/subsets_experiment.ipynb\" target=\"_parent\"><img src=\"https://colab.research.google.com/assets/colab-badge.svg\" alt=\"Open In Colab\"/></a>"
      ]
    },
    {
      "cell_type": "code",
      "execution_count": 4,
      "metadata": {
        "colab": {
          "base_uri": "https://localhost:8080/"
        },
        "id": "yqThzBTGa34Y",
        "outputId": "6ddfae68-7899-41b6-fd5a-a654d907ea5b"
      },
      "outputs": [
        {
          "output_type": "stream",
          "name": "stdout",
          "text": [
            "Requirement already satisfied: numpy in /usr/local/lib/python3.10/dist-packages (1.22.4)\n",
            "Requirement already satisfied: numba in /usr/local/lib/python3.10/dist-packages (0.56.4)\n",
            "Requirement already satisfied: pypivoter in /usr/local/lib/python3.10/dist-packages (0.1.0)\n",
            "Requirement already satisfied: llvmlite<0.40,>=0.39.0dev0 in /usr/local/lib/python3.10/dist-packages (from numba) (0.39.1)\n",
            "Requirement already satisfied: setuptools in /usr/local/lib/python3.10/dist-packages (from numba) (67.7.2)\n"
          ]
        }
      ],
      "source": [
        "!pip install numpy numba pypivoter\n",
        "import numpy as np\n",
        "import numba as nb\n",
        "from pypivoter.degeneracy_cliques import enumerateCliques"
      ]
    },
    {
      "cell_type": "code",
      "source": [
        "class Subsets:\n",
        "  def __init__(self, subset_list):\n",
        "    self.n_subsets = len(subset_list)\n",
        "    subset_lengths = np.array([len(subset) for subset in subset_list])\n",
        "    idxs = np.argsort(subset_lengths).flatten()\n",
        "    self.subsets = np.empty((self.n_subsets, max(subset_lengths)))\n",
        "    self.subsets[:, :] = np.nan\n",
        "    for i, idx in enumerate(idxs):\n",
        "      self.subsets[i, :subset_lengths[idx]] = subset_list[idx]\n",
        "    self.issubset = np.zeros((self.n_subsets, self.n_subsets), dtype=bool)\n",
        "    self.delta = np.zeros(self.n_subsets)\n",
        "    populate_issubset_delta(self.issubset, self.delta,\n",
        "                            self.n_subsets, self.subsets)\n",
        "\n",
        "@nb.njit\n",
        "def populate_issubset_delta(issubset, delta, n_subsets, subsets):\n",
        "  subset_lengths = (~np.isnan(subsets)).sum(axis=1)\n",
        "  for i in range(n_subsets):\n",
        "    for j in range(i, n_subsets):\n",
        "      flag = True\n",
        "      for k in subsets[i]:\n",
        "        if np.isnan(k):\n",
        "          continue\n",
        "        if k not in subsets[j]:\n",
        "          flag = False\n",
        "          break\n",
        "      if flag:\n",
        "        issubset[i, j] = True\n",
        "        delta[i] += (-1) ** (subset_lengths[j] - subset_lengths[i])"
      ],
      "metadata": {
        "id": "g69wweLza7hy"
      },
      "execution_count": 33,
      "outputs": []
    },
    {
      "cell_type": "code",
      "source": [
        "N = 60"
      ],
      "metadata": {
        "id": "MFUS-ZNAecpY"
      },
      "execution_count": 6,
      "outputs": []
    },
    {
      "cell_type": "code",
      "source": [
        "# generate random graph\n",
        "A = np.zeros((N, N))\n",
        "A[np.triu_indices(N, 1)] = np.random.random(N * (N - 1) // 2).round()\n",
        "cliques = enumerateCliques(np.argwhere(A))\n",
        "subsets = sum([[row for row in arr] for arr in cliques if len(arr)], [])\n",
        "s_cliques = Subsets(subsets)"
      ],
      "metadata": {
        "id": "DXBGHLGweXii"
      },
      "execution_count": 34,
      "outputs": []
    },
    {
      "cell_type": "code",
      "source": [
        "t = np.random.random(N)\n",
        "t_sum = np.zeros(N)\n",
        "for i, subset in enumerate(s_cliques.subsets):\n",
        "  mask = subset[~np.isnan(subset)].astype(int)\n",
        "  t_mask = np.zeros(N)\n",
        "  t_sum[mask] += s_cliques.delta[i] * t[mask]\n",
        "print(np.abs(t - t_sum).max())"
      ],
      "metadata": {
        "colab": {
          "base_uri": "https://localhost:8080/"
        },
        "id": "_9XPMIcAe2YF",
        "outputId": "a8ef0069-dc25-4b45-eb75-4ddff271f09a"
      },
      "execution_count": 36,
      "outputs": [
        {
          "output_type": "stream",
          "name": "stdout",
          "text": [
            "3.630429290524262e-13\n"
          ]
        }
      ]
    },
    {
      "cell_type": "code",
      "source": [
        "delta_sums = (s_cliques.delta * s_cliques.issubset).sum(axis=1)"
      ],
      "metadata": {
        "id": "o5Q4eKgegVw7"
      },
      "execution_count": 38,
      "outputs": []
    },
    {
      "cell_type": "code",
      "source": [
        "np.unique(delta_sums)"
      ],
      "metadata": {
        "colab": {
          "base_uri": "https://localhost:8080/"
        },
        "id": "2Sxl2KHJnF-1",
        "outputId": "360c37f2-9b23-484d-a885-14a5b7d43656"
      },
      "execution_count": 39,
      "outputs": [
        {
          "output_type": "execute_result",
          "data": {
            "text/plain": [
              "array([1.])"
            ]
          },
          "metadata": {},
          "execution_count": 39
        }
      ]
    },
    {
      "cell_type": "code",
      "source": [
        "degeneracy = (A + A.T).sum(axis=0)"
      ],
      "metadata": {
        "id": "8d0egn05nNQ6"
      },
      "execution_count": 40,
      "outputs": []
    },
    {
      "cell_type": "code",
      "source": [
        "t_sum2 = np.zeros(N)\n",
        "for pair in np.argwhere(A):\n",
        "  t_mask = np.zeros(N)\n",
        "  t_sum2[pair] += t[pair] / degeneracy[pair]\n",
        "print(np.abs(t - t_sum2).max())"
      ],
      "metadata": {
        "colab": {
          "base_uri": "https://localhost:8080/"
        },
        "id": "DKOwGgs1qR5L",
        "outputId": "86df01d3-38cc-43b7-d985-926f93a8c845"
      },
      "execution_count": 43,
      "outputs": [
        {
          "output_type": "stream",
          "name": "stdout",
          "text": [
            "7.771561172376096e-16\n"
          ]
        }
      ]
    },
    {
      "cell_type": "code",
      "source": [
        "t_sum3 = np.zeros(N)\n",
        "degeneracy_all = np.array([len([subset for subset in subsets if i in subset])\n",
        "                           for i in range(N)])\n",
        "for clique in subsets:\n",
        "  t_mask = np.zeros(N)\n",
        "  t_sum3[clique] += t[clique] / degeneracy_all[clique]\n",
        "print(np.abs(t - t_sum3).max())"
      ],
      "metadata": {
        "colab": {
          "base_uri": "https://localhost:8080/"
        },
        "id": "D_83PM9Pq4Wf",
        "outputId": "2f7cad8d-2692-4e11-c22b-d22c9bddbac0"
      },
      "execution_count": 46,
      "outputs": [
        {
          "output_type": "stream",
          "name": "stdout",
          "text": [
            "3.863576125695545e-14\n"
          ]
        }
      ]
    },
    {
      "cell_type": "code",
      "source": [],
      "metadata": {
        "id": "qmNoRuE3tyiD"
      },
      "execution_count": null,
      "outputs": []
    }
  ]
}